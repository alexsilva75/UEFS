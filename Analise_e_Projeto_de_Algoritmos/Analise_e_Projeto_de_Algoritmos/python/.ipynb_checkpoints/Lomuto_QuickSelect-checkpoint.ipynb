{
 "cells": [
  {
   "cell_type": "code",
   "execution_count": 5,
   "id": "0267e3ba-8b75-445e-baba-2ae8c949dc84",
   "metadata": {},
   "outputs": [],
   "source": [
    "def swap(arr, p1, p2):\n",
    "    temp = arr[p1]\n",
    "    arr[p1] = arr[p2]\n",
    "    arr[p2] = temp\n",
    "    "
   ]
  },
  {
   "cell_type": "code",
   "execution_count": 6,
   "id": "657ad63b-e187-488c-960d-c8e77c62c7ce",
   "metadata": {},
   "outputs": [],
   "source": [
    "def lomutoPartition(arr, l, r):\n",
    "    p = arr[l]\n",
    "    s = l\n",
    "\n",
    "    for i in range(l + 1, r):\n",
    "        if arr[i] < p:\n",
    "            s = s + 1\n",
    "            swap(arr, i, s)\n",
    "    swap(arr, s, l)\n",
    "    return s\n",
    "            "
   ]
  },
  {
   "cell_type": "code",
   "execution_count": 7,
   "id": "a1fd53ef-2cfb-4e49-b9ff-69c53ce5ddca",
   "metadata": {},
   "outputs": [
    {
     "data": {
      "text/plain": [
       "[46, 69, 74, 31, 79, 24, 9, 35, 82, 53]"
      ]
     },
     "execution_count": 7,
     "metadata": {},
     "output_type": "execute_result"
    }
   ],
   "source": [
    "import random\n",
    "arr = random.sample(range(100),10)\n",
    "arr"
   ]
  },
  {
   "cell_type": "code",
   "execution_count": 8,
   "id": "2affa111-6c98-47e8-be49-522714dca632",
   "metadata": {},
   "outputs": [
    {
     "data": {
      "text/plain": [
       "4"
      ]
     },
     "execution_count": 8,
     "metadata": {},
     "output_type": "execute_result"
    }
   ],
   "source": [
    "lomutoPartition(arr,0, 9)"
   ]
  },
  {
   "cell_type": "code",
   "execution_count": 66,
   "id": "55109f7b-613f-4690-ab5b-c2340501d995",
   "metadata": {},
   "outputs": [],
   "source": [
    "def quickSelect(arr,l, r, k):\n",
    "    s = lomutoPartition(arr,l,r)\n",
    "    if s == k - 1:\n",
    "        return arr[s]\n",
    "    elif s > k - 1:\n",
    "        return quickSelect(arr, l, s, k)\n",
    "    else:\n",
    "        return quickSelect(arr, s + 1, r, k)\n",
    "        "
   ]
  },
  {
   "cell_type": "code",
   "execution_count": 71,
   "id": "2fc4e85f-e761-4594-88cb-ff5a221cba1d",
   "metadata": {},
   "outputs": [
    {
     "data": {
      "text/plain": [
       "[16, 0, 51, 29, 38, 1, 69, 27, 90, 7]"
      ]
     },
     "execution_count": 71,
     "metadata": {},
     "output_type": "execute_result"
    }
   ],
   "source": [
    "arr = random.sample(range(100),10)\n",
    "arr"
   ]
  },
  {
   "cell_type": "code",
   "execution_count": 72,
   "id": "cc80b072-0071-4192-a088-0a6d1d043ea6",
   "metadata": {},
   "outputs": [
    {
     "data": {
      "text/plain": [
       "27"
      ]
     },
     "execution_count": 72,
     "metadata": {},
     "output_type": "execute_result"
    }
   ],
   "source": [
    "quickSelect(arr,0,10, 5)"
   ]
  },
  {
   "cell_type": "code",
   "execution_count": 73,
   "id": "2297ce85-67da-4e5a-9c2a-3d35fb7528d3",
   "metadata": {},
   "outputs": [
    {
     "data": {
      "text/plain": [
       "[0, 1, 7, 16, 27, 29, 38, 51, 69, 90]"
      ]
     },
     "execution_count": 73,
     "metadata": {},
     "output_type": "execute_result"
    }
   ],
   "source": [
    "arr.sort()\n",
    "arr"
   ]
  },
  {
   "cell_type": "code",
   "execution_count": null,
   "id": "c772525e-c269-4589-accb-3884bf92a808",
   "metadata": {},
   "outputs": [],
   "source": []
  }
 ],
 "metadata": {
  "kernelspec": {
   "display_name": "Python 3 (ipykernel)",
   "language": "python",
   "name": "python3"
  },
  "language_info": {
   "codemirror_mode": {
    "name": "ipython",
    "version": 3
   },
   "file_extension": ".py",
   "mimetype": "text/x-python",
   "name": "python",
   "nbconvert_exporter": "python",
   "pygments_lexer": "ipython3",
   "version": "3.8.10"
  }
 },
 "nbformat": 4,
 "nbformat_minor": 5
}
